{
 "cells": [
  {
   "cell_type": "markdown",
   "id": "77855a3f",
   "metadata": {
    "slideshow": {
     "slide_type": "slide"
    }
   },
   "source": [
    "# Optimisation in Python \n",
    "## and its application in carbon portfolio\n",
    "\n",
    "### Jessica Leung\n",
    "6 December 2022"
   ]
  },
  {
   "cell_type": "markdown",
   "id": "4a5c74f6",
   "metadata": {
    "slideshow": {
     "slide_type": "slide"
    }
   },
   "source": [
    "## A little about me\n",
    "\n",
    "Dr Jessica Leung is a lecturer in Business Analytics at the Econometrics and Business Statistics Department at Monash University. Her research focuses on convex and combinatorial optimization in business applications. Jessica teaches undergraduate and postgraduate courses in business statistics, management science, optimization, applied linear algebra, and visual data analytics."
   ]
  },
  {
   "cell_type": "markdown",
   "id": "3331bc3f",
   "metadata": {
    "slideshow": {
     "slide_type": "slide"
    }
   },
   "source": [
    "## Today's Plan\n",
    "\n",
    "### - Part 1: Introduction to optimization \n",
    "- What is a mathematical optimization problem?\n",
    "- Examples: linear programming, mixed integer programming, quadratic programming and quadratically constrained programming\n",
    "- Exercise: Formulate a business problem as an optimization problem\n",
    "\n",
    "### - Part 2: Using the python optimization tools \n",
    "- Introducing `scipy.optimize` and `cvxpy`\n",
    "- Solving examples of optimization problems using `scipy.optimize`\n",
    "- Exercise: Solve a business problem as an optimization using `scipy.optimize`\n",
    "\n",
    "\n",
    "### - Part 3: Carbon portfolio diversification application \n",
    "- Introducing Markowitz portfolio optimization\n",
    "- Introducing carbon metrics in the mathematical optimization model"
   ]
  },
  {
   "cell_type": "markdown",
   "id": "d5887b90",
   "metadata": {
    "slideshow": {
     "slide_type": "slide"
    }
   },
   "source": [
    "## Part 1: Introduction to optimization\n",
    "\n",
    "### What is a mathematical optimization problem?"
   ]
  },
  {
   "cell_type": "markdown",
   "id": "0029a5eb",
   "metadata": {
    "slideshow": {
     "slide_type": "slide"
    }
   },
   "source": [
    "### Optimization is everywhere...\n",
    "\n",
    "Mathematical Optimization comes in many differnet forms in Business Analytics:\n",
    "- Parameter Estimation (e.g. Maximum likelihood estimation, Least Squares estimation, Least Absolute deviation)\n",
    "- any business processes or operations (This is what we teach in ETF2480 - Optimization in Business)\n",
    "\n",
    "_How a Mathematical Optimization model can help your business deal with disruption_ (Forbes 2020): https://www.forbes.com/sites/forbestechcouncil/2020/08/24/how-a-mathematical-optimization-model-can-help-your-business-deal-with-disruption/?sh=2fda6f3e617b"
   ]
  },
  {
   "cell_type": "markdown",
   "id": "8b993bfb",
   "metadata": {
    "slideshow": {
     "slide_type": "slide"
    }
   },
   "source": [
    "### A (typical) mathematical optimization problem\n",
    "\n",
    "$$\\begin{align*}\n",
    "    \\text{Maximize   }&f(x)&  \\\\\n",
    "    \\text{subject to   }&g(x)\\leq b\\\\\n",
    "     & x \\geq 0\n",
    "\\end{align*}$$\n",
    "\n",
    "__Objective Function:__\n",
    "A function we want to optimize (maximise or minimise)\n",
    "\n",
    "__Decision Variables:__\n",
    "Variables whose values are under our control\n",
    "\n",
    "__Constraints:__\n",
    "Restrictions on the decision variables values"
   ]
  },
  {
   "cell_type": "markdown",
   "id": "1d1b02b4",
   "metadata": {
    "slideshow": {
     "slide_type": "slide"
    }
   },
   "source": [
    "### Different classes of optimization problems\n",
    "\n",
    "$$\\begin{align*}\n",
    "    \\text{Maximize   }&f(x)&  \\\\\n",
    "    \\text{subject to   }&g(x)\\leq b\\\\\n",
    "     & x \\geq 0\n",
    "\\end{align*}$$\n",
    "\n",
    "- Linear Optimization Problems (Linear Programming)\n",
    "- (Mixed-) Integer Optimization Problems (Integer Programming)\n",
    "- Linear Fractional Programming\n",
    "- Quadratic Optimization Problems (Quadratic Programming)\n",
    "- Quadratically Constrained Programming\n",
    "- Second Order Cone Programming\n",
    "- Geometric Programming\n",
    "- and many _many_ more...\n",
    "\n",
    "__It all depends on what $f(x)$ and $g(x)$ are and what values can $x$ be!__"
   ]
  },
  {
   "cell_type": "markdown",
   "id": "59d831eb",
   "metadata": {
    "slideshow": {
     "slide_type": "slide"
    }
   },
   "source": [
    "### Linear Programming\n",
    "\n",
    "\n",
    "$$\\begin{align*}\n",
    "    \\text{Maximize   }&f(x)&  \\\\\n",
    "    \\text{subject to   }&g(x)\\leq b\\\\\n",
    "     & x \\geq 0\n",
    "\\end{align*}$$\n",
    "\n",
    "\n",
    "This is when $f(x)$ and $g(x)$ are linear and when $x$ take on continuous values. $x$ here is a vector.\n",
    "\n",
    "\n",
    "_When a function is linear, that means you can express it as $Ax$ where $A$ is a matrix. This allows us to express our objective functions and constraints in a compact and elegant way._"
   ]
  },
  {
   "cell_type": "markdown",
   "id": "03cff044",
   "metadata": {
    "slideshow": {
     "slide_type": "slide"
    }
   },
   "source": [
    "### Example: The Diet Problem\n",
    "\n",
    "__Diet problem:__ choose quantities $x_1,\\dots , x_n$ of $n$ foods\n",
    "\n",
    "-  one unit of food $j$ costs $c_j$, contains amount $a_{ij}$ of nutrient $i$ \n",
    "-  healthy diet requires nutrient $i$ in quantity at least $b_i$\n",
    "\n",
    "The goal is to find cheapest healthy diet. \n",
    "\n",
    "Mathematically, the problem can be formulated as:\n",
    "\\begin{align*}\n",
    "    \\text{minimize} & \\quad c^T x \\\\\n",
    "    \\text{subject to} & \\quad A x \\geq b\n",
    "\\end{align*}\n",
    "\n",
    "\n",
    "Several variations on this problem can also be formulated as LPs: \n",
    "\n",
    "- can insist on an exact amount of a nutrient in the diet (which gives a linear equality constraint)\n",
    "- can impose an upper bound on the amount of a nutrient\n",
    "- etc.\n"
   ]
  },
  {
   "cell_type": "markdown",
   "id": "daeecad6",
   "metadata": {
    "slideshow": {
     "slide_type": "slide"
    }
   },
   "source": [
    "### Example: The Diet Problem\n",
    "\n",
    "Consider an instance of the diet optimisation problem:\n",
    "- there are six different foods: bread, milk, cheese, potato, fish, and yogurt \n",
    "- the cost and nutrition values per unit are displayed in the table below\n",
    "\n",
    "The objective is to find a minimum-cost diet that contains \n",
    "- at least 300 calories\n",
    "- not more than 10 grams of protein \n",
    "- not less than 10 grams of carbohydrates \n",
    "- and not less than 8 grams of fat\n",
    "- in addition, the diet should contain at least 0.5 unit of fish and no more than 1 unit of milk\n",
    "\n",
    "\n",
    "| |Bread|Milk|Cheese|Potato|Fish|Yogurt|\n",
    "|:--:|:--:|:--:|:--:|:--:|:--:|:--:|\n",
    "|Cost, \\$ | 2.0 | 3.5 | 8.0 | 1.5 | 11.0 | 1.0 |\n",
    "|Protein, g | 4.0 | 8.0 | 7.0 | 1.3 | 8.0 | 9.2 |\n",
    "|Fat, g | 1.0 | 5.0 | 9.0 | 0.1 | 7.0 | 1.0 |\n",
    "|Carbohydrates, g | 15.0 | 11.7 | 0.4 | 22.6 | 0.0 | 17.0 |\n",
    "|Calories, cal | 90 | 120 | 106 | 97 | 130\t | 180 |\n"
   ]
  },
  {
   "cell_type": "markdown",
   "id": "aa2c180f",
   "metadata": {
    "slideshow": {
     "slide_type": "slide"
    }
   },
   "source": [
    "### Example: The Diet Problem Mathematical Formulation\n",
    "\n",
    "Let $x_j$ be the quantity of food $j$ chosen. Then the diet problem can be formulated as\n",
    "\\begin{align*}\n",
    "    \\text{minimize} & \\quad 2x_1 + 3.5x_2 + 8x_3 + 1.5x_4 + 11x_5 + x_6 \\\\\n",
    "    \\text{subject to} & \\quad 90x_1 + 120x_2 + 106x_3 + 97x_4 + 130x_5 + 180x_6 \\geq 300 \\\\\n",
    "    \t\t\t& \\quad 4x_1 + 8x_2 + 7x_3 + 1.3x_4 + 8x_5 + 9.2x_6 \\leq 10 \\\\\n",
    "\t\t\t& \\quad 15x_1 + 11.7x_2 + 0.4x_3 + 22.6x_4 + 17x_6 \\geq 10 \\\\\n",
    "\t\t\t& \\quad x_1 + 5x_2 + 9x_3 + 0.1x_4 + 7x_5 + x_6 \\geq 8 \\\\\n",
    "\t\t\t& \\quad x_5 \\geq 0.5 \\\\\n",
    "\t\t\t& \\quad x_2 \\leq 1 \\\\\n",
    "\t\t\t& \\quad x_j \\geq 0, \\quad j = 1,\\dots,6\n",
    "\\end{align*}\n",
    "\n",
    "__solution:__ $x^\\star = (0, 0.053, 0.449,  1.865, 0.500, 0)$ with $p^\\star = 12.081$\n",
    "\n",
    "\n",
    "_We will talk about how to compute numerical solutions from Python in Part II_"
   ]
  },
  {
   "cell_type": "markdown",
   "id": "03ab66c9",
   "metadata": {
    "slideshow": {
     "slide_type": "slide"
    }
   },
   "source": [
    "### Integer (Linear) Programming\n",
    "\n",
    "\n",
    "$$\\begin{align*}\n",
    "    \\text{Maximize   }&f(x)&  \\\\\n",
    "    \\text{subject to   }&g(x)\\leq b\\\\\n",
    "     & x \\geq 0\n",
    "\\end{align*}$$\n",
    "\n",
    "\n",
    "This is when $f(x)$ and $g(x)$ are linear and when $x$ are restricted to take on integer values.\n"
   ]
  },
  {
   "cell_type": "markdown",
   "id": "d0892c38",
   "metadata": {
    "slideshow": {
     "slide_type": "slide"
    }
   },
   "source": [
    "### Example: Work Scheduling\n",
    "\n",
    "A post office requires different number of full-time employees on different days of the week (see Table). Union rules state that each employee must work five consecutive days and then receive two days off. For example, an employee who works  Monday to Friday must be off on Saturday and Sunday. The post office wants to meet its daily requirements using only full-time employees. \n",
    "\n",
    "\n",
    "Formulate an IP that the post office can use to minimise the number of full-time employees who must be hired.\n",
    "\n",
    "\n",
    "|Day|Mon|Tue|Wed|Thu|Fri|Sat|Sun|\n",
    "|:--:|:--:|:--:|:--:|:--:|:--:|:--:|:--:|\n",
    "|\\# of employees|17|13|15|19|14|16|11|\n"
   ]
  },
  {
   "cell_type": "markdown",
   "id": "e77081d2",
   "metadata": {
    "slideshow": {
     "slide_type": "slide"
    }
   },
   "source": [
    "### Example: Work Scheduling Mathematical Formulation\n",
    "\n",
    "Let $x_i$ be the number of employees beginning work on day $i$, then\n",
    "\n",
    "\\begin{align*}\n",
    "    \\text{minimize} & \\quad \\sum_{i=1}^7 x_i \\\\\n",
    "    \\text{subject to} & \\quad x_1 + x_4 + x_5 + x_6 + x_7 \\geq 17 \\\\\n",
    "                      \t& \\quad x_1 + x_2 + x_5 + x_6 + x_7 \\geq 13 \\\\\n",
    "\t\t\t& \\quad x_1 + x_2 + x_3 + x_6 + x_7 \\geq 15 \\\\\n",
    "\t\t\t& \\quad x_1 + x_2 + x_3 + x_4 + x_7 \\geq 19 \\\\\n",
    "\t\t\t& \\quad x_1 + x_2 + x_3 + x_4 + x_5 \\geq 14 \\\\\n",
    "\t\t\t& \\quad x_2 + x_3 + x_4 + x_5 + x_6 \\geq 16 \\\\\n",
    "\t\t\t& \\quad x_3 + x_4 + x_5 + x_6 + x_7 \\geq 11 \\\\\n",
    "\t\t\t& \\quad x_i \\geq 0 \\quad i=1,\\dots,7\n",
    "\\end{align*}\n",
    "\n",
    "__integer solution:__ $x_\\text{ip} = (4, 4, 2, 6, 0, 4, 3)$ $\\rightarrow$ $p(x_\\text{ip})^* = 23$\n"
   ]
  },
  {
   "cell_type": "markdown",
   "id": "60eb6392",
   "metadata": {
    "slideshow": {
     "slide_type": "slide"
    }
   },
   "source": [
    "### Example: Work Scheduling - Compare the solutions\n",
    "\n",
    "__integer solution:__ $x_\\text{ip} = (4, 4, 2, 6, 0, 4, 3)$ $\\rightarrow$ $p(x_\\text{ip})^* = 23$\n",
    "\n",
    "\n",
    "__LP solution:__ $x_\\text{lp} = (1\\frac{1}{3}, 3\\frac{1}{3}, 2, 7\\frac{1}{3}, 0, 3\\frac{1}{3}, 5)$ $\\rightarrow$ $p(x_\\text{lp})^* = 22\\frac{1}{3}$\n",
    "\n",
    "__rounded solution:__ $x_\\text{r} = (2, 4, 2, 8, 0, 4, 5)$ $\\rightarrow$ $p(x_\\text{r})^* = 25$\n",
    "\n",
    "__truncated solution:__ $x_\\text{t} = (1, 3, 2, 7, 0, 3, 5)$ $\\rightarrow$ infeasible!\n"
   ]
  },
  {
   "cell_type": "markdown",
   "id": "4893c5a9",
   "metadata": {
    "slideshow": {
     "slide_type": "slide"
    }
   },
   "source": [
    "### Mixed-integer (Linear) Program \n",
    "\n",
    "$$\\begin{align*}\n",
    "    \\text{Maximize   }&f(x)&  \\\\\n",
    "    \\text{subject to   }&g(x)\\leq b\\\\\n",
    "     & x \\geq 0\n",
    "\\end{align*}$$\n",
    "\n",
    "\n",
    "This is when $f(x)$ and $g(x)$ are linear and when some entries of $x$ are restricted to take on integer values, while other entries can take on continuous.\n"
   ]
  },
  {
   "cell_type": "markdown",
   "id": "0cd9244b",
   "metadata": {
    "slideshow": {
     "slide_type": "slide"
    }
   },
   "source": [
    "### Example: Facility Location\n",
    "\n",
    "A company is considering opening warehouses in four cities: New York, Los Angeles, Chicago, and Atlanta. Each warehouse can ship 100 units per week. The weekly fixed cost of keeping each warehouse open is $\\$400$ for New York, $\\$500$ for Los Angeles, $\\$300$ for Chicago, and $\\$150$ for Atlanta. Region 1 of the country requires 80 units per week, region 2 requires 70 units per week, and region 3 requires 40 units per week. The costs (including production and shipping costs) of sending one unit from a plant to a region are shown in the following table.\n",
    "\n",
    "|From |Region 1|Region 2|Region 3|\n",
    "|:--:|:--:|:--:|:--:|\n",
    "|New York | 20    | 40    | 50 |\n",
    "|Los Angeles | 48   | 15    | 26 |\n",
    "|Chicago | 26    | 35    | 18 |\n",
    "|Atlanta | 24    | 50    | 35 |\n",
    "\n",
    "\n",
    "We want to meet weekly demands at minimum cost, subject to the preceding information and the following restrictions:\n",
    "\n",
    "1. If the New York warehouse is opened, then the Los Angeles warehouse must be opened.\n",
    "2. At most two warehouses can be opened.\n",
    "3. Either the Atlanta or the Los Angeles warehouse must be opened.\n",
    "\n",
    "Formulate and solve an MIP that can be used to minimize the weekly costs of meeting demand."
   ]
  },
  {
   "cell_type": "markdown",
   "id": "df95921f",
   "metadata": {
    "slideshow": {
     "slide_type": "slide"
    }
   },
   "source": [
    "### Example: Facility Location Mathematical Formulation\n",
    "\n",
    "Let $x_{i,j}$ be integer variables that correspond to the number of unit shipped from warehouse $i$ to region $j$ and $y_i$ be binary variable that equals 1 if warehouse opened at $i$, and equals 0 otherwise, where $i\\in$ \\{New York, Los Angeles, Chicago and Atlanta\\} and $j\\in\\{1,2,3\\}$. Let $FC_i$ and $VC_{ij}$ be the fixed cost at warehouse $i$ and cost of sending one unit from warehouse $i$ to region $j$ respectively. \n",
    "\n",
    "\\begin{align}\n",
    "\\text{minimize} \\quad\n",
    "& \\sum_{i}FC_iy_i + \\sum_{i}\\sum_{j}VC_{ij}x_{ij} \\\\\n",
    "\\text{subject to} \\quad &  \\sum_j x_{ij} \\leq 100 y_{i}, \\quad \\forall i\\in\\{NY,LA,CH,AT\\}\\\\\n",
    "& \\sum_i x_{i,1} \\geq 80, \\quad \\sum_i x_{i,2} \\geq 70, \\quad \\sum_i x_{i,3} \\geq 40\\\\\n",
    "& \\sum_i y_i \\leq 2\\\\\n",
    "& y_{NY} \\leq y_{LA}\\\\\n",
    "& y_{AT} + y_{LA} \\geq 1\\\\\n",
    "& x_{i,j} \\geq 0 \\text{ and integers } \\forall i,j \\\\\n",
    "&  y_i  \\in \\{0,1\\} \\forall i\n",
    "\\end{align}"
   ]
  },
  {
   "cell_type": "markdown",
   "id": "4eb9aafc",
   "metadata": {
    "slideshow": {
     "slide_type": "slide"
    }
   },
   "source": [
    "### Example: Facility Location Mathematical Formulation\n",
    "\n",
    "The objective function gives the weekly cost of meeting demand. Constraint (16) is the forcing constraint and the capacity constraint for the warehouse. Constraints (17) - (19) are the demand constraints for region 1, 2 and 3. Constraint (20) restricts the maximum number of warehouse to be 2. Constraints (21)-(22) corresponds to restriction 1 and 3. Constraints (23) -(24) are the non-negativity constraint of the integer variables and the binary variable constraints.\n",
    "\n",
    "$y^*=(0,1,0,1), x_{AT,1}^\\star = 80, x_{LA,3}^\\star = 30, x_{AT,3}^\\star = 10, x_{LA,2}^\\star = 70$, all other $x^\\star = 0$, $p^\\star=4750$\n",
    "\n",
    "Conclusion and interpretation: The total weekly costs of meeting demand is \\$4750. Warehouse is opened at Los Angeles and Atlanta. 80 and 10 units are shipped from Atlanta to Region 1 and 3 respectively. 70 and 30 units are shipped from Los Angeles to Region 2 and 3 respectively."
   ]
  },
  {
   "cell_type": "markdown",
   "id": "1ca3cddb",
   "metadata": {
    "slideshow": {
     "slide_type": "slide"
    }
   },
   "source": [
    "###  Quadratic Programming\n",
    "\n",
    "$$\\begin{align*}\n",
    "    \\text{Maximize   }&f(x)&  \\\\\n",
    "    \\text{subject to   }&g(x)\\leq b\\\\\n",
    "     & x \\geq 0\n",
    "\\end{align*}$$\n",
    "\n",
    "This is when $f(x)$ is quadratic and when $x$ take on continuous values."
   ]
  },
  {
   "cell_type": "markdown",
   "id": "804526b9",
   "metadata": {
    "slideshow": {
     "slide_type": "slide"
    }
   },
   "source": [
    "### Example: Portfolio Optimization\n",
    "\n",
    "Classical portfolio optimisation problem, introduced by Markowitz, is the QP\n",
    "\\begin{align*}\n",
    "\t\\text{minimize} & \\quad x^T \\Sigma x \\\\\n",
    "\t\\text{subject to} & \\quad \\bar p^T x \\geq r_{\\min} \\\\\n",
    "\t& \\quad \\mathbf{1}^T x = 1 \\\\\n",
    "\t& \\quad x \\geq 0\n",
    "\\end{align*}\n",
    "\n",
    " - $x \\in \\mathbf{R}^n$ is investment portfolio; $x_i$ is fraction invested in asset $i$\n",
    " - $p \\in \\mathbf{R}^n$ is vector of relative asset price changes; modelled as a random variable with mean $\\bar p$, covariance $\\Sigma$\n",
    " - $\\bar p^T x = \\mathbf{E}\\; r$ is expected return; $x^T \\Sigma x = \\mathbf{var}\\; r$ is return variance"
   ]
  },
  {
   "cell_type": "markdown",
   "id": "2587bcba",
   "metadata": {
    "slideshow": {
     "slide_type": "slide"
    }
   },
   "source": [
    "### Quadratically Constrained Programming\n",
    "\n",
    "$$\\begin{align*}\n",
    "    \\text{Maximize   }&f(x)&  \\\\\n",
    "    \\text{subject to   }&g(x)\\leq b\\\\\n",
    "     & x \\geq 0\n",
    "\\end{align*}$$\n",
    "\n",
    "This is when $g(x)$ is quadratic and when $x$ take on continuous values."
   ]
  },
  {
   "cell_type": "markdown",
   "id": "83eebaee",
   "metadata": {
    "slideshow": {
     "slide_type": "slide"
    }
   },
   "source": [
    "### Extension of Markowitz portfolio optimisation\n",
    "\n",
    "Consider an extension of the Markowitz portfolio optimisation problem, where we wish to maximise mean return subject to an upper bound on return variance:\n",
    "\\begin{align*}\n",
    "\t\\text{minimize} & \\quad -\\bar p^T x \\\\\n",
    "\t\\text{subject to} & \\quad x^T \\Sigma x \\leq \\sigma_{\\max} \\\\\n",
    "\t& \\quad \\mathbf{1}^T x = 1 \\\\\n",
    "\t& \\quad x \\geq 0\n",
    "\\end{align*}\n",
    "\n",
    "\n",
    "-  $x \\in \\mathbf{R}^n$ is investment portfolio; $x_i$ is fraction invested in asset $i$\n",
    "-  $p \\in \\mathbf{R}^n$ is vector of relative asset price changes; modelled as a random variable with mean $\\bar p$, covariance $\\Sigma$\n",
    "-  $\\bar p^T x = \\mathbf{E}\\; r$ is expected return; $x^T \\Sigma x = \\mathbf{var}\\; r$ is return variance\n",
    "-  $\\sigma_{\\max}$ is the upper bound on risk\n",
    "-  if $\\Sigma\\in \\textbf{S}^n_{+}$ (positive-semidefinite), the problem is QCP"
   ]
  },
  {
   "cell_type": "markdown",
   "id": "16df8399",
   "metadata": {
    "slideshow": {
     "slide_type": "slide"
    }
   },
   "source": [
    "### And sometimes problems can be a mixed of these classes of problems\n",
    "\n",
    "_What about when $f(x)$ is quadratic and $x$ are restricted to be integers?_\n",
    "\n",
    "- Real life problems often comes as a mixed of these classes of problems and these problem requries specifically designed algorithms to solve. \n",
    "\n",
    "_What about other restrictions I want to add?_\n",
    "\n",
    "- The use of an optimization framework to view a problem allows us to include other pratical restrictions in a natural manner as a constriant.\n",
    "\n",
    "And there are many more classes of problems that I didn't include in my slides..."
   ]
  },
  {
   "cell_type": "markdown",
   "id": "c1ebd0af",
   "metadata": {
    "slideshow": {
     "slide_type": "slide"
    }
   },
   "source": [
    "### A few common transformations tricks that we use\n",
    "\n",
    "We can solve the __maximisation problem__\n",
    "\\begin{align*}\n",
    "\\text{maximize} & \\quad c^T x \\\\\n",
    "\\text{subject to} & \\quad A x \\leq b \\\\\n",
    "& \\quad D x = f\n",
    "\\end{align*}\n",
    "by minimising the function $-c^T x$ subject to the same constraints: \n",
    "\\begin{align*}\n",
    "\\text{minimize} & \\quad -c^T x \\\\\n",
    "\\text{subject to} & \\quad A x \\leq b \\\\\n",
    "& \\quad D x = f\n",
    "\\end{align*}\n"
   ]
  },
  {
   "cell_type": "markdown",
   "id": "7cf55aeb",
   "metadata": {
    "slideshow": {
     "slide_type": "slide"
    }
   },
   "source": [
    "### Equivalent problems\n",
    "\n",
    "Two problems are (informally) __equivalent__ if the solution of one is readily obtained from the solution of the other, and vice-versa.\n",
    "\n",
    "\n",
    "Transforming maximisation problem into minimisation is a good example (see previous slide).\n",
    "\n",
    "\n",
    "Some common transformations:\n",
    "\n",
    "   - converting $\\leq$ constraints to $\\geq$ constraints:\n",
    "\n",
    "\n",
    "$$a_i^T x \\leq b_i \\quad \\text{is equivalent to} \\quad (-a_i)^T x \\geq -b_i$$\n",
    "\n",
    "   - eliminating equality constraints:\n",
    "$a_i^T x = b_i$ is equivalent to two inequality constraints  \n",
    "\n",
    "$$(-a_i)^T x \\geq -b_i \\quad\\text{and}\\quad a_i^T x \\geq b_i$$\n",
    "\n"
   ]
  },
  {
   "cell_type": "markdown",
   "id": "25fdbfa0",
   "metadata": {
    "slideshow": {
     "slide_type": "slide"
    }
   },
   "source": [
    "### Why does it matter\n",
    "\n",
    "- Choosing the right tools to solve the problem is faster and more accurate\n",
    "- I cannot teach you all possible varieties of optimization problem, but modelling technique can be taught, and toolbox of solving different classes can be taught.\n",
    "- That's the premises of a lot of technological innovations nowadays."
   ]
  },
  {
   "cell_type": "markdown",
   "id": "8fc987b4",
   "metadata": {
    "slideshow": {
     "slide_type": "slide"
    }
   },
   "source": [
    "### Exercise: Simple Markovwitz Portfolio\n",
    "\n",
    "Let's construct a simple Markowitz portfolio on a toy example.\n",
    "\n",
    "Consider the following 6 stocks: \"GOOGL\", \"AAPL\", \"WMT\", \"JPM\", \"BAC\", \"HSBC\".\n",
    "\n",
    "We can download the historical adjusted closing price for these 6 stocks from various sources e.g. Yahoo Finance.\n",
    "\n",
    "- What would you do to formulate the portfolio optimization problem as a Markowitz portfolio? \n",
    "\n",
    "- What do you need to construct the mathematical optimization problem?\n"
   ]
  },
  {
   "cell_type": "markdown",
   "id": "12426462",
   "metadata": {
    "slideshow": {
     "slide_type": "slide"
    }
   },
   "source": [
    "### Let's take a break."
   ]
  }
 ],
 "metadata": {
  "celltoolbar": "Slideshow",
  "kernelspec": {
   "display_name": "Python 3 (ipykernel)",
   "language": "python",
   "name": "python3"
  },
  "language_info": {
   "codemirror_mode": {
    "name": "ipython",
    "version": 3
   },
   "file_extension": ".py",
   "mimetype": "text/x-python",
   "name": "python",
   "nbconvert_exporter": "python",
   "pygments_lexer": "ipython3",
   "version": "3.9.15"
  }
 },
 "nbformat": 4,
 "nbformat_minor": 5
}
